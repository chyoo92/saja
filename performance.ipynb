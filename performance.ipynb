{
 "cells": [
  {
   "cell_type": "code",
   "execution_count": 89,
   "id": "b747bca3",
   "metadata": {},
   "outputs": [],
   "source": [
    "from sklearn.metrics import confusion_matrix\n",
    "import pandas as pd\n",
    "import os\n",
    "import numpy as np\n",
    "import glob\n",
    "import torch\n",
    "import matplotlib.pyplot as plt"
   ]
  },
  {
   "cell_type": "code",
   "execution_count": 14,
   "id": "13c7e2fb",
   "metadata": {},
   "outputs": [],
   "source": [
    "## uni = file name\n",
    "uni = \"test\"\n",
    "\n",
    "path = \"/users/yewzzang/work/saja/result/*\" + uni +\"*/*mask.csv\"\n",
    "train_path = glob.glob(path)\n",
    "train_list = [file for file in train_path if file.endswith(\".csv\")]"
   ]
  },
  {
   "cell_type": "code",
   "execution_count": 15,
   "id": "91b2f533",
   "metadata": {},
   "outputs": [
    {
     "data": {
      "text/plain": [
       "['/users/yewzzang/work/saja/result/test/test_label_mask.csv']"
      ]
     },
     "execution_count": 15,
     "metadata": {},
     "output_type": "execute_result"
    }
   ],
   "source": [
    "train_list"
   ]
  },
  {
   "cell_type": "code",
   "execution_count": 22,
   "id": "888c4171",
   "metadata": {},
   "outputs": [],
   "source": [
    "f1 = pd.read_csv(train_list[0])"
   ]
  },
  {
   "cell_type": "code",
   "execution_count": 30,
   "id": "184d91eb",
   "metadata": {},
   "outputs": [],
   "source": [
    "pred = torch.Tensor(np.array(f1)).reshape(-1,14,3)[:,:,0]\n",
    "label = torch.Tensor(np.array(f1)).reshape(-1,14,3)[:,:,1]\n",
    "mask = torch.Tensor(np.array(f1)).reshape(-1,14,3)[:,:,2]"
   ]
  },
  {
   "cell_type": "code",
   "execution_count": 44,
   "id": "dc8392d7",
   "metadata": {},
   "outputs": [],
   "source": [
    "pred_mask = pred.masked_fill(mask.bool(),0)\n",
    "label_mask = label.masked_fill(mask.bool(),0)"
   ]
  },
  {
   "cell_type": "code",
   "execution_count": null,
   "id": "ac7ffdef",
   "metadata": {},
   "outputs": [],
   "source": []
  },
  {
   "cell_type": "code",
   "execution_count": 64,
   "id": "321dc638",
   "metadata": {},
   "outputs": [],
   "source": [
    "label_pred_0_0, label_pred_0_1, label_pred_0_2, label_pred_0_3, label_pred_0_4 = [], [], [], [], []\n",
    "label_pred_1_0, label_pred_1_1, label_pred_1_2, label_pred_1_3, label_pred_1_4 = [], [], [], [], []\n",
    "label_pred_2_0, label_pred_2_1, label_pred_2_2, label_pred_2_3, label_pred_2_4 = [], [], [], [], []\n",
    "label_pred_3_0, label_pred_3_1, label_pred_3_2, label_pred_3_3, label_pred_3_4 = [], [], [], [], []\n",
    "label_pred_4_0, label_pred_4_1, label_pred_4_2, label_pred_4_3, label_pred_4_4 = [], [], [], [], []\n",
    "\n",
    "\n",
    "for i in range(pred_mask.shape[0]):\n",
    "\n",
    "    \n",
    "    label_pred_0_0.append(((label_mask[i][:int(14-mask[i].sum())]==0)&(pred_mask[i][:int(14-mask[i].sum())]==0)).sum())\n",
    "    label_pred_0_1.append(((label_mask[i][:int(14-mask[i].sum())]==0)&(pred_mask[i][:int(14-mask[i].sum())]==1)).sum())\n",
    "    label_pred_0_2.append(((label_mask[i][:int(14-mask[i].sum())]==0)&(pred_mask[i][:int(14-mask[i].sum())]==2)).sum())\n",
    "    label_pred_0_3.append(((label_mask[i][:int(14-mask[i].sum())]==0)&(pred_mask[i][:int(14-mask[i].sum())]==3)).sum())\n",
    "    label_pred_0_4.append(((label_mask[i][:int(14-mask[i].sum())]==0)&(pred_mask[i][:int(14-mask[i].sum())]==4)).sum())\n",
    "    \n",
    "    label_pred_1_0.append(((label_mask[i][:int(14-mask[i].sum())]==1)&(pred_mask[i][:int(14-mask[i].sum())]==0)).sum())\n",
    "    label_pred_1_1.append(((label_mask[i][:int(14-mask[i].sum())]==1)&(pred_mask[i][:int(14-mask[i].sum())]==1)).sum())\n",
    "    label_pred_1_2.append(((label_mask[i][:int(14-mask[i].sum())]==1)&(pred_mask[i][:int(14-mask[i].sum())]==2)).sum())\n",
    "    label_pred_1_3.append(((label_mask[i][:int(14-mask[i].sum())]==1)&(pred_mask[i][:int(14-mask[i].sum())]==3)).sum())\n",
    "    label_pred_1_4.append(((label_mask[i][:int(14-mask[i].sum())]==1)&(pred_mask[i][:int(14-mask[i].sum())]==4)).sum())\n",
    "    \n",
    "    label_pred_2_0.append(((label_mask[i][:int(14-mask[i].sum())]==2)&(pred_mask[i][:int(14-mask[i].sum())]==0)).sum())\n",
    "    label_pred_2_1.append(((label_mask[i][:int(14-mask[i].sum())]==2)&(pred_mask[i][:int(14-mask[i].sum())]==1)).sum())\n",
    "    label_pred_2_2.append(((label_mask[i][:int(14-mask[i].sum())]==2)&(pred_mask[i][:int(14-mask[i].sum())]==2)).sum())\n",
    "    label_pred_2_3.append(((label_mask[i][:int(14-mask[i].sum())]==2)&(pred_mask[i][:int(14-mask[i].sum())]==3)).sum())\n",
    "    label_pred_2_4.append(((label_mask[i][:int(14-mask[i].sum())]==2)&(pred_mask[i][:int(14-mask[i].sum())]==4)).sum())\n",
    "    \n",
    "    label_pred_3_0.append(((label_mask[i][:int(14-mask[i].sum())]==3)&(pred_mask[i][:int(14-mask[i].sum())]==0)).sum())\n",
    "    label_pred_3_1.append(((label_mask[i][:int(14-mask[i].sum())]==3)&(pred_mask[i][:int(14-mask[i].sum())]==1)).sum())\n",
    "    label_pred_3_2.append(((label_mask[i][:int(14-mask[i].sum())]==3)&(pred_mask[i][:int(14-mask[i].sum())]==2)).sum())\n",
    "    label_pred_3_3.append(((label_mask[i][:int(14-mask[i].sum())]==3)&(pred_mask[i][:int(14-mask[i].sum())]==3)).sum())\n",
    "    label_pred_3_4.append(((label_mask[i][:int(14-mask[i].sum())]==3)&(pred_mask[i][:int(14-mask[i].sum())]==4)).sum())\n",
    "    \n",
    "    label_pred_4_0.append(((label_mask[i][:int(14-mask[i].sum())]==4)&(pred_mask[i][:int(14-mask[i].sum())]==0)).sum())\n",
    "    label_pred_4_1.append(((label_mask[i][:int(14-mask[i].sum())]==4)&(pred_mask[i][:int(14-mask[i].sum())]==1)).sum())\n",
    "    label_pred_4_2.append(((label_mask[i][:int(14-mask[i].sum())]==4)&(pred_mask[i][:int(14-mask[i].sum())]==2)).sum())\n",
    "    label_pred_4_3.append(((label_mask[i][:int(14-mask[i].sum())]==4)&(pred_mask[i][:int(14-mask[i].sum())]==3)).sum())\n",
    "    label_pred_4_4.append(((label_mask[i][:int(14-mask[i].sum())]==4)&(pred_mask[i][:int(14-mask[i].sum())]==4)).sum())\n",
    "    "
   ]
  },
  {
   "cell_type": "code",
   "execution_count": 60,
   "id": "97c78b54",
   "metadata": {},
   "outputs": [
    {
     "data": {
      "text/plain": [
       "tensor([0., 0., 0., 2., 0., 2., 0., 0., 2., 2.])"
      ]
     },
     "execution_count": 60,
     "metadata": {},
     "output_type": "execute_result"
    }
   ],
   "source": [
    "torch.Tensor(label_pred_4_4)"
   ]
  },
  {
   "cell_type": "code",
   "execution_count": 74,
   "id": "cb31018b",
   "metadata": {},
   "outputs": [],
   "source": [
    "LP_00 = torch.Tensor(label_pred_0_0).sum()\n",
    "LP_01 = torch.Tensor(label_pred_0_1).sum()\n",
    "LP_02 = torch.Tensor(label_pred_0_2).sum()\n",
    "LP_03 = torch.Tensor(label_pred_0_3).sum()\n",
    "LP_04 = torch.Tensor(label_pred_0_4).sum()\n",
    "\n",
    "LP_10 = torch.Tensor(label_pred_1_0).sum()\n",
    "LP_11 = torch.Tensor(label_pred_1_1).sum()\n",
    "LP_12 = torch.Tensor(label_pred_1_2).sum()\n",
    "LP_13 = torch.Tensor(label_pred_1_3).sum()\n",
    "LP_14 = torch.Tensor(label_pred_1_4).sum()\n",
    "\n",
    "LP_20 = torch.Tensor(label_pred_2_0).sum()\n",
    "LP_21 = torch.Tensor(label_pred_2_1).sum()\n",
    "LP_22 = torch.Tensor(label_pred_2_2).sum()\n",
    "LP_23 = torch.Tensor(label_pred_2_3).sum()\n",
    "LP_24 = torch.Tensor(label_pred_2_4).sum()\n",
    "\n",
    "LP_30 = torch.Tensor(label_pred_3_0).sum()\n",
    "LP_31 = torch.Tensor(label_pred_3_1).sum()\n",
    "LP_32 = torch.Tensor(label_pred_3_2).sum()\n",
    "LP_33 = torch.Tensor(label_pred_3_3).sum()\n",
    "LP_34 = torch.Tensor(label_pred_3_4).sum()\n",
    "\n",
    "LP_40 = torch.Tensor(label_pred_4_0).sum()\n",
    "LP_41 = torch.Tensor(label_pred_4_1).sum()\n",
    "LP_42 = torch.Tensor(label_pred_4_2).sum()\n",
    "LP_43 = torch.Tensor(label_pred_4_3).sum()\n",
    "LP_44 = torch.Tensor(label_pred_4_4).sum()"
   ]
  },
  {
   "cell_type": "code",
   "execution_count": 79,
   "id": "60c905ff",
   "metadata": {},
   "outputs": [],
   "source": [
    "other_other = LP_00/(LP_00 + LP_01 + LP_02 + LP_03 + LP_04)\n",
    "other_b = (LP_01+LP_03)/(LP_00 + LP_01 + LP_02 + LP_03 + LP_04)\n",
    "other_q = (LP_02+LP_04)/(LP_00 + LP_01 + LP_02 + LP_03 + LP_04)\n",
    "\n",
    "b_other = (LP_10+LP_30)/(LP_10 + LP_11 + LP_12 + LP_13 + LP_14+LP_30 + LP_31 + LP_32 + LP_33 + LP_34)\n",
    "b_b = (LP_11+LP_13+LP_31+LP_33)/(LP_10 + LP_11 + LP_12 + LP_13 + LP_14+LP_30 + LP_31 + LP_32 + LP_33 + LP_34)\n",
    "b_q = (LP_12+LP_14+LP_32+LP_34)/(LP_10 + LP_11 + LP_12 + LP_13 + LP_14+LP_30 + LP_31 + LP_32 + LP_33 + LP_34)\n",
    "\n",
    "q_other = (LP_20+LP_40)/(LP_20 + LP_21 + LP_22 + LP_23 + LP_24+LP_40 + LP_41 + LP_42 + LP_43 + LP_44)\n",
    "q_b = (LP_21+LP_23+LP_41+LP_43)/(LP_20 + LP_21 + LP_22 + LP_23 + LP_24+LP_40 + LP_41 + LP_42 + LP_43 + LP_44)\n",
    "q_q = (LP_22+LP_24+LP_42+LP_44)/(LP_20 + LP_21 + LP_22 + LP_23 + LP_24+LP_40 + LP_41 + LP_42 + LP_43 + LP_44)"
   ]
  },
  {
   "cell_type": "code",
   "execution_count": 87,
   "id": "61c1f630",
   "metadata": {},
   "outputs": [],
   "source": [
    "CM = np.array([[np.array(b_b),np.array(b_q),np.array(b_other)],\n",
    "               [np.array(q_b),np.array(q_q),np.array(q_other)],\n",
    "               [np.array(other_b),np.array(other_q),np.array(other_other)]])"
   ]
  },
  {
   "cell_type": "code",
   "execution_count": 115,
   "id": "298d355b",
   "metadata": {},
   "outputs": [
    {
     "data": {
      "image/png": "[encoded data removed]",
      "text/plain": [
       "<Figure size 640x480 with 1 Axes>"
      ]
     },
     "metadata": {},
     "output_type": "display_data"
    }
   ],
   "source": [
    "plt.imshow(CM,cmap='binary')\n",
    "plt.text(0-0.45,0,np.round(np.array(b_b),5),fontsize=15,color='red')\n",
    "plt.text(1-0.45,0,np.round(np.array(b_q),5),fontsize=15,color='red')\n",
    "plt.text(2-0.45,0,np.round(np.array(b_other),5),fontsize=15,color='red')\n",
    "\n",
    "plt.text(0-0.45,1,np.round(np.array(q_b),5),fontsize=15,color='red')\n",
    "plt.text(1-0.45,1,np.round(np.array(q_q),5),fontsize=15,color='red')\n",
    "plt.text(2-0.45,1,np.round(np.array(q_other),5),fontsize=15,color='red')\n",
    "\n",
    "plt.text(0-0.45,2,np.round(np.array(other_b),5),fontsize=15,color='red')\n",
    "plt.text(1-0.45,2,np.round(np.array(other_q),5),fontsize=15,color='red')\n",
    "plt.text(2-0.45,2,np.round(np.array(other_other),5),fontsize=15,color='red')\n",
    "# plt.text(0,0,\"dddd\",fontsize=20,color='red')\n",
    "\n",
    "plt.show()"
   ]
  },
  {
   "cell_type": "code",
   "execution_count": null,
   "id": "18662dfc",
   "metadata": {},
   "outputs": [],
   "source": []
  }
 ],
 "metadata": {
  "kernelspec": {
   "display_name": "Python 3 (ipykernel)",
   "language": "python",
   "name": "python3"
  },
  "language_info": {
   "codemirror_mode": {
    "name": "ipython",
    "version": 3
   },
   "file_extension": ".py",
   "mimetype": "text/x-python",
   "name": "python",
   "nbconvert_exporter": "python",
   "pygments_lexer": "ipython3",
   "version": "3.9.16"
  }
 },
 "nbformat": 4,
 "nbformat_minor": 5
}
