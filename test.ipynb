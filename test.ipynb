{
 "cells": [
  {
   "cell_type": "code",
   "execution_count": 1,
   "id": "137d6f93",
   "metadata": {},
   "outputs": [],
   "source": [
    "import uproot"
   ]
  }
 ],
 "metadata": {
  "kernelspec": {
   "display_name": "pyg23",
   "language": "python",
   "name": "pyg23"
  },
  "language_info": {
   "codemirror_mode": {
    "name": "ipython",
    "version": 3
   },
   "file_extension": ".py",
   "mimetype": "text/x-python",
   "name": "python",
   "nbconvert_exporter": "python",
   "pygments_lexer": "ipython3",
   "version": "3.9.16"
  }
 },
 "nbformat": 4,
 "nbformat_minor": 5
}
