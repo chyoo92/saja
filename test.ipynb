{
 "cells": [
  {
   "cell_type": "code",
   "execution_count": 1,
   "id": "62b007be",
   "metadata": {},
   "outputs": [],
   "source": [
    "import torch\n",
    "import os"
   ]
  },
  {
   "cell_type": "code",
   "execution_count": 2,
   "id": "971242c3",
   "metadata": {},
   "outputs": [],
   "source": [
    "ttbar_v1 = os.listdir('/store/hep/users/yewzzang/saja/ttbar_pt_v1')\n",
    "ttbar_v2 = os.listdir('/store/hep/users/yewzzang/saja/ttbar_pt_v2')"
   ]
  },
  {
   "cell_type": "code",
   "execution_count": 3,
   "id": "eda1bc3d",
   "metadata": {},
   "outputs": [],
   "source": [
    "v1_num = 0\n",
    "for i in range(len(ttbar_v1)):\n",
    "    v1_num += (len(torch.load('/store/hep/users/yewzzang/saja/ttbar_pt_v1/'+ttbar_v1[i])))"
   ]
  },
  {
   "cell_type": "code",
   "execution_count": 4,
   "id": "dc20a797",
   "metadata": {},
   "outputs": [],
   "source": [
    "v2_num = 0\n",
    "for i in range(len(ttbar_v2)):\n",
    "    v2_num += (len(torch.load('/store/hep/users/yewzzang/saja/ttbar_pt_v2/'+ttbar_v2[i])))"
   ]
  },
  {
   "cell_type": "code",
   "execution_count": 5,
   "id": "d6d529f1",
   "metadata": {},
   "outputs": [
    {
     "name": "stdout",
     "output_type": "stream",
     "text": [
      "817830 1635377\n"
     ]
    }
   ],
   "source": [
    "print(v1_num, v2_num)"
   ]
  },
  {
   "cell_type": "code",
   "execution_count": 6,
   "id": "1af6af86",
   "metadata": {},
   "outputs": [
    {
     "data": {
      "text/plain": [
       "False"
      ]
     },
     "execution_count": 6,
     "metadata": {},
     "output_type": "execute_result"
    }
   ],
   "source": [
    "v1_num > v2_num"
   ]
  },
  {
   "cell_type": "code",
   "execution_count": 9,
   "id": "9adbef2b",
   "metadata": {},
   "outputs": [
    {
     "data": {
      "text/plain": [
       "2453207"
      ]
     },
     "execution_count": 9,
     "metadata": {},
     "output_type": "execute_result"
    }
   ],
   "source": [
    "v1_num + v2_num"
   ]
  },
  {
   "cell_type": "code",
   "execution_count": 16,
   "id": "3fa3214f",
   "metadata": {},
   "outputs": [],
   "source": [
    "max_jet = []\n",
    "for i in range(len(ttbar_v1)):\n",
    "    \n",
    "    f = torch.load('/store/hep/users/yewzzang/saja/ttbar_pt_v1/'+ttbar_v1[i])\n",
    "    for j in range(len(torch.load('/store/hep/users/yewzzang/saja/ttbar_pt_v1/'+ttbar_v1[i]))):\n",
    "        max_jet.append(len(f[j].y))\n",
    "        "
   ]
  },
  {
   "cell_type": "code",
   "execution_count": 17,
   "id": "83579c6a",
   "metadata": {},
   "outputs": [],
   "source": [
    "max_jet_2 = []\n",
    "for i in range(len(ttbar_v1)):\n",
    "    \n",
    "    f = torch.load('/store/hep/users/yewzzang/saja/ttbar_pt_v1/'+ttbar_v1[i])\n",
    "    for j in range(len(torch.load('/store/hep/users/yewzzang/saja/ttbar_pt_v1/'+ttbar_v1[i]))):\n",
    "        max_jet_2.append(len(f[j].y))\n",
    "        "
   ]
  },
  {
   "cell_type": "code",
   "execution_count": 23,
   "id": "15c7128d",
   "metadata": {},
   "outputs": [
    {
     "data": {
      "text/plain": [
       "14"
      ]
     },
     "execution_count": 23,
     "metadata": {},
     "output_type": "execute_result"
    }
   ],
   "source": [
    "import numpy as np\n",
    "np.array(max_jet).max()"
   ]
  },
  {
   "cell_type": "code",
   "execution_count": 24,
   "id": "045c987e",
   "metadata": {},
   "outputs": [
    {
     "data": {
      "text/plain": [
       "14"
      ]
     },
     "execution_count": 24,
     "metadata": {},
     "output_type": "execute_result"
    }
   ],
   "source": [
    "np.array(max_jet_2).max()"
   ]
  },
  {
   "cell_type": "code",
   "execution_count": 25,
   "id": "a3705497",
   "metadata": {},
   "outputs": [],
   "source": [
    "import matplotlib.pyplot as plt"
   ]
  },
  {
   "cell_type": "code",
   "execution_count": 33,
   "id": "fb2b3100",
   "metadata": {},
   "outputs": [
    {
     "data": {
      "image/png": "[encoded data removed]",
      "text/plain": [
       "<Figure size 640x480 with 1 Axes>"
      ]
     },
     "metadata": {},
     "output_type": "display_data"
    }
   ],
   "source": [
    "plt.hist(np.array(max_jet),bins=50,color='red')\n",
    "plt.show()"
   ]
  },
  {
   "cell_type": "code",
   "execution_count": 34,
   "id": "8ee37c9b",
   "metadata": {},
   "outputs": [
    {
     "data": {
      "image/png": "[encoded data removed]",
      "text/plain": [
       "<Figure size 640x480 with 1 Axes>"
      ]
     },
     "metadata": {},
     "output_type": "display_data"
    }
   ],
   "source": [
    "plt.hist(np.array(max_jet_2),bins=50,color='blue')\n",
    "plt.show()"
   ]
  },
  {
   "cell_type": "code",
   "execution_count": 1,
   "id": "3c322d00",
   "metadata": {},
   "outputs": [],
   "source": [
    "import torch"
   ]
  },
  {
   "cell_type": "code",
   "execution_count": 4,
   "id": "8bdc2c8f",
   "metadata": {},
   "outputs": [
    {
     "name": "stdout",
     "output_type": "stream",
     "text": [
      "tensor([[ True, False, False, False, False, False, False, False, False, False],\n",
      "        [ True,  True, False, False, False, False, False, False, False, False],\n",
      "        [ True,  True,  True, False, False, False, False, False, False, False],\n",
      "        [ True,  True,  True,  True, False, False, False, False, False, False],\n",
      "        [ True,  True,  True,  True,  True, False, False, False, False, False],\n",
      "        [ True,  True,  True,  True,  True,  True, False, False, False, False],\n",
      "        [ True,  True,  True,  True,  True,  True,  True, False, False, False],\n",
      "        [ True,  True,  True,  True,  True,  True,  True,  True, False, False],\n",
      "        [ True,  True,  True,  True,  True,  True,  True,  True,  True, False],\n",
      "        [ True,  True,  True,  True,  True,  True,  True,  True,  True,  True]])\n"
     ]
    }
   ],
   "source": [
    "mask = torch.tril(torch.ones(10, 10) == 1) # Lower triangular matrix\n",
    "print(mask)\n",
    "mask = mask.float()\n",
    "mask = mask.masked_fill(mask == 0, float('-inf')) # Convert zeros to -inf\n",
    "mask = mask.masked_fill(mask == 1, float(0.0)) # Convert ones to 0"
   ]
  },
  {
   "cell_type": "code",
   "execution_count": 3,
   "id": "c07c513e",
   "metadata": {},
   "outputs": [
    {
     "data": {
      "text/plain": [
       "tensor([[0., -inf, -inf, -inf, -inf, -inf, -inf, -inf, -inf, -inf],\n",
       "        [0., 0., -inf, -inf, -inf, -inf, -inf, -inf, -inf, -inf],\n",
       "        [0., 0., 0., -inf, -inf, -inf, -inf, -inf, -inf, -inf],\n",
       "        [0., 0., 0., 0., -inf, -inf, -inf, -inf, -inf, -inf],\n",
       "        [0., 0., 0., 0., 0., -inf, -inf, -inf, -inf, -inf],\n",
       "        [0., 0., 0., 0., 0., 0., -inf, -inf, -inf, -inf],\n",
       "        [0., 0., 0., 0., 0., 0., 0., -inf, -inf, -inf],\n",
       "        [0., 0., 0., 0., 0., 0., 0., 0., -inf, -inf],\n",
       "        [0., 0., 0., 0., 0., 0., 0., 0., 0., -inf],\n",
       "        [0., 0., 0., 0., 0., 0., 0., 0., 0., 0.]])"
      ]
     },
     "execution_count": 3,
     "metadata": {},
     "output_type": "execute_result"
    }
   ],
   "source": [
    "mask"
   ]
  }
 ],
 "metadata": {
  "kernelspec": {
   "display_name": "Python 3 (ipykernel)",
   "language": "python",
   "name": "python3"
  },
  "language_info": {
   "codemirror_mode": {
    "name": "ipython",
    "version": 3
   },
   "file_extension": ".py",
   "mimetype": "text/x-python",
   "name": "python",
   "nbconvert_exporter": "python",
   "pygments_lexer": "ipython3",
   "version": "3.9.16"
  }
 },
 "nbformat": 4,
 "nbformat_minor": 5
}
